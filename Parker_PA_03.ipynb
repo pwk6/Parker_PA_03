{
  "cells": [
    {
      "cell_type": "markdown",
      "id": "34e889f9-09e5-448f-8665-eedea26b19e4",
      "metadata": {
        "id": "34e889f9-09e5-448f-8665-eedea26b19e4"
      },
      "source": [
        "# Programming Assignment #3"
      ]
    },
    {
      "cell_type": "markdown",
      "id": "ea230194-3e7e-478e-b772-eee41732d475",
      "metadata": {
        "id": "ea230194-3e7e-478e-b772-eee41732d475"
      },
      "source": [
        "## 1. Decision tree using scikit-learn\n",
        "The mpg.csv dataset contains information on miles per gallon (mpg) and engine size for cars sold from 1970 through 1982.\n",
        "\n",
        "- Create a dataframe X containing the features cylinders, weight, and mpg.\n",
        "- Create a dataframe y containing the feature origin.\n",
        "- Initialize and fit a classification tree with max_leaf_nodes=6 to the training data.\n",
        "- Use the classification tree to make predictions for the test data.\n",
        "- Create a confusion matrix.\n",
        "\n",
        "Ex: If the input feature displacement is used instead of cylinders, the output should be:"
      ]
    },
    {
      "cell_type": "code",
      "execution_count": null,
      "id": "839fb2d5-f387-43f1-b5b6-4da405d4e586",
      "metadata": {
        "id": "839fb2d5-f387-43f1-b5b6-4da405d4e586"
      },
      "outputs": [],
      "source": [
        "import pandas as pd\n",
        "import matplotlib.pyplot as plt\n",
        "\n",
        "from sklearn.model_selection import train_test_split\n",
        "from sklearn.tree import DecisionTreeClassifier, export_text\n",
        "from sklearn.metrics import confusion_matrix, ConfusionMatrixDisplay\n",
        "\n",
        "mpg = pd.read_csv('mpg.csv')\n",
        "plt.rcParams['figure.dpi'] = 150\n",
        "\n",
        "# Create a dataframe X containing cylinders, weight, and mpg\n",
        "X = mpg[['cylinders', 'weight', 'mpg']]\n",
        "\n",
        "# Create a dataframe y containing origin\n",
        "y = mpg['origin']\n",
        "\n",
        "X_train, X_test, y_train, y_test = train_test_split(X, y, test_size=0.3, random_state=123)\n",
        "\n",
        "# Initialize the tree with `max_leaf_nodes=6`\n",
        "DTC = DecisionTreeClassifier(max_leaf_nodes=6)\n",
        "\n",
        "# Fit the tree to the training data\n",
        "DTC.fit(x_train, y_train)\n",
        "\n",
        "# Print the text summary of the tree\n",
        "DTC_tree = export_text(DTC)\n",
        "print(DTC_tree)\n",
        "\n",
        "# Make predictions for the test data\n",
        "y_pred = DTC.predict(x_test)\n",
        "\n",
        "# Create a confusion matrix\n",
        "cm = confusion_matrix(y_test, y_pred)\n",
        "\n",
        "# Plot the confusion matrix\n",
        "ConfusionMatrixDisplay(cm).plot()\n",
        "plt.savefig('confMatrix.png')"
      ]
    },
    {
      "cell_type": "code",
      "execution_count": null,
      "id": "2e59e220-2de2-4030-9abd-4bd3a7143a60",
      "metadata": {
        "id": "2e59e220-2de2-4030-9abd-4bd3a7143a60"
      },
      "outputs": [],
      "source": []
    }
  ],
  "metadata": {
    "kernelspec": {
      "display_name": "Python 3 (ipykernel)",
      "language": "python",
      "name": "python3"
    },
    "language_info": {
      "codemirror_mode": {
        "name": "ipython",
        "version": 3
      },
      "file_extension": ".py",
      "mimetype": "text/x-python",
      "name": "python",
      "nbconvert_exporter": "python",
      "pygments_lexer": "ipython3",
      "version": "3.12.4"
    },
    "colab": {
      "provenance": []
    }
  },
  "nbformat": 4,
  "nbformat_minor": 5
}